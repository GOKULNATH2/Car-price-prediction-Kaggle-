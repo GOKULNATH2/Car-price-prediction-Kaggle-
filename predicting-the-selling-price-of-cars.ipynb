{
 "cells": [
  {
   "cell_type": "code",
   "execution_count": 1,
   "id": "400b7eb7",
   "metadata": {
    "_cell_guid": "b1076dfc-b9ad-4769-8c92-a6c4dae69d19",
    "_uuid": "8f2839f25d086af736a60e9eeb907d3b93b6e0e5",
    "execution": {
     "iopub.execute_input": "2021-07-14T16:30:46.312057Z",
     "iopub.status.busy": "2021-07-14T16:30:46.311254Z",
     "iopub.status.idle": "2021-07-14T16:30:46.324615Z",
     "shell.execute_reply": "2021-07-14T16:30:46.323896Z",
     "shell.execute_reply.started": "2021-07-14T16:25:47.036905Z"
    },
    "papermill": {
     "duration": 0.05518,
     "end_time": "2021-07-14T16:30:46.324810",
     "exception": false,
     "start_time": "2021-07-14T16:30:46.269630",
     "status": "completed"
    },
    "tags": []
   },
   "outputs": [
    {
     "name": "stdout",
     "output_type": "stream",
     "text": [
      "/kaggle/input/vehicle-dataset-from-cardekho/car data.csv\n",
      "/kaggle/input/vehicle-dataset-from-cardekho/CAR DETAILS FROM CAR DEKHO.csv\n",
      "/kaggle/input/vehicle-dataset-from-cardekho/Car details v3.csv\n"
     ]
    }
   ],
   "source": [
    "# This Python 3 environment comes with many helpful analytics libraries installed\n",
    "# It is defined by the kaggle/python Docker image: https://github.com/kaggle/docker-python\n",
    "# For example, here's several helpful packages to load\n",
    "\n",
    "import numpy as np # linear algebra\n",
    "import pandas as pd # data processing, CSV file I/O (e.g. pd.read_csv)\n",
    "\n",
    "# Input data files are available in the read-only \"../input/\" directory\n",
    "# For example, running this (by clicking run or pressing Shift+Enter) will list all files under the input directory\n",
    "\n",
    "import os\n",
    "for dirname, _, filenames in os.walk('/kaggle/input'):\n",
    "    for filename in filenames:\n",
    "        print(os.path.join(dirname, filename))\n",
    "\n",
    "# You can write up to 20GB to the current directory (/kaggle/working/) that gets preserved as output when you create a version using \"Save & Run All\" \n",
    "# You can also write temporary files to /kaggle/temp/, but they won't be saved outside of the current session"
   ]
  },
  {
   "cell_type": "code",
   "execution_count": 2,
   "id": "3c55930c",
   "metadata": {
    "execution": {
     "iopub.execute_input": "2021-07-14T16:30:46.384741Z",
     "iopub.status.busy": "2021-07-14T16:30:46.383991Z",
     "iopub.status.idle": "2021-07-14T16:30:47.619985Z",
     "shell.execute_reply": "2021-07-14T16:30:47.619247Z",
     "shell.execute_reply.started": "2021-07-14T16:25:48.470545Z"
    },
    "papermill": {
     "duration": 1.267792,
     "end_time": "2021-07-14T16:30:47.620163",
     "exception": false,
     "start_time": "2021-07-14T16:30:46.352371",
     "status": "completed"
    },
    "tags": []
   },
   "outputs": [],
   "source": [
    "import matplotlib.pyplot as plt\n",
    "import seaborn as sns"
   ]
  },
  {
   "cell_type": "markdown",
   "id": "49951e4d",
   "metadata": {
    "papermill": {
     "duration": 0.025473,
     "end_time": "2021-07-14T16:30:47.672130",
     "exception": false,
     "start_time": "2021-07-14T16:30:47.646657",
     "status": "completed"
    },
    "tags": []
   },
   "source": [
    "LOADING THE DATASET"
   ]
  },
  {
   "cell_type": "code",
   "execution_count": 3,
   "id": "d548fa5d",
   "metadata": {
    "execution": {
     "iopub.execute_input": "2021-07-14T16:30:47.729929Z",
     "iopub.status.busy": "2021-07-14T16:30:47.729146Z",
     "iopub.status.idle": "2021-07-14T16:30:47.773199Z",
     "shell.execute_reply": "2021-07-14T16:30:47.773724Z",
     "shell.execute_reply.started": "2021-07-14T16:25:56.726176Z"
    },
    "papermill": {
     "duration": 0.076119,
     "end_time": "2021-07-14T16:30:47.773943",
     "exception": false,
     "start_time": "2021-07-14T16:30:47.697824",
     "status": "completed"
    },
    "tags": []
   },
   "outputs": [
    {
     "data": {
      "text/html": [
       "<div>\n",
       "<style scoped>\n",
       "    .dataframe tbody tr th:only-of-type {\n",
       "        vertical-align: middle;\n",
       "    }\n",
       "\n",
       "    .dataframe tbody tr th {\n",
       "        vertical-align: top;\n",
       "    }\n",
       "\n",
       "    .dataframe thead th {\n",
       "        text-align: right;\n",
       "    }\n",
       "</style>\n",
       "<table border=\"1\" class=\"dataframe\">\n",
       "  <thead>\n",
       "    <tr style=\"text-align: right;\">\n",
       "      <th></th>\n",
       "      <th>Car_Name</th>\n",
       "      <th>Year</th>\n",
       "      <th>Selling_Price</th>\n",
       "      <th>Present_Price</th>\n",
       "      <th>Kms_Driven</th>\n",
       "      <th>Fuel_Type</th>\n",
       "      <th>Seller_Type</th>\n",
       "      <th>Transmission</th>\n",
       "      <th>Owner</th>\n",
       "    </tr>\n",
       "  </thead>\n",
       "  <tbody>\n",
       "    <tr>\n",
       "      <th>0</th>\n",
       "      <td>ritz</td>\n",
       "      <td>2014</td>\n",
       "      <td>3.35</td>\n",
       "      <td>5.59</td>\n",
       "      <td>27000</td>\n",
       "      <td>Petrol</td>\n",
       "      <td>Dealer</td>\n",
       "      <td>Manual</td>\n",
       "      <td>0</td>\n",
       "    </tr>\n",
       "    <tr>\n",
       "      <th>1</th>\n",
       "      <td>sx4</td>\n",
       "      <td>2013</td>\n",
       "      <td>4.75</td>\n",
       "      <td>9.54</td>\n",
       "      <td>43000</td>\n",
       "      <td>Diesel</td>\n",
       "      <td>Dealer</td>\n",
       "      <td>Manual</td>\n",
       "      <td>0</td>\n",
       "    </tr>\n",
       "    <tr>\n",
       "      <th>2</th>\n",
       "      <td>ciaz</td>\n",
       "      <td>2017</td>\n",
       "      <td>7.25</td>\n",
       "      <td>9.85</td>\n",
       "      <td>6900</td>\n",
       "      <td>Petrol</td>\n",
       "      <td>Dealer</td>\n",
       "      <td>Manual</td>\n",
       "      <td>0</td>\n",
       "    </tr>\n",
       "    <tr>\n",
       "      <th>3</th>\n",
       "      <td>wagon r</td>\n",
       "      <td>2011</td>\n",
       "      <td>2.85</td>\n",
       "      <td>4.15</td>\n",
       "      <td>5200</td>\n",
       "      <td>Petrol</td>\n",
       "      <td>Dealer</td>\n",
       "      <td>Manual</td>\n",
       "      <td>0</td>\n",
       "    </tr>\n",
       "    <tr>\n",
       "      <th>4</th>\n",
       "      <td>swift</td>\n",
       "      <td>2014</td>\n",
       "      <td>4.60</td>\n",
       "      <td>6.87</td>\n",
       "      <td>42450</td>\n",
       "      <td>Diesel</td>\n",
       "      <td>Dealer</td>\n",
       "      <td>Manual</td>\n",
       "      <td>0</td>\n",
       "    </tr>\n",
       "  </tbody>\n",
       "</table>\n",
       "</div>"
      ],
      "text/plain": [
       "  Car_Name  Year  Selling_Price  Present_Price  Kms_Driven Fuel_Type  \\\n",
       "0     ritz  2014           3.35           5.59       27000    Petrol   \n",
       "1      sx4  2013           4.75           9.54       43000    Diesel   \n",
       "2     ciaz  2017           7.25           9.85        6900    Petrol   \n",
       "3  wagon r  2011           2.85           4.15        5200    Petrol   \n",
       "4    swift  2014           4.60           6.87       42450    Diesel   \n",
       "\n",
       "  Seller_Type Transmission  Owner  \n",
       "0      Dealer       Manual      0  \n",
       "1      Dealer       Manual      0  \n",
       "2      Dealer       Manual      0  \n",
       "3      Dealer       Manual      0  \n",
       "4      Dealer       Manual      0  "
      ]
     },
     "execution_count": 3,
     "metadata": {},
     "output_type": "execute_result"
    }
   ],
   "source": [
    "data = pd.read_csv('/kaggle/input/vehicle-dataset-from-cardekho/car data.csv')\n",
    "data.head()"
   ]
  },
  {
   "cell_type": "markdown",
   "id": "4b022075",
   "metadata": {
    "papermill": {
     "duration": 0.027121,
     "end_time": "2021-07-14T16:30:47.828657",
     "exception": false,
     "start_time": "2021-07-14T16:30:47.801536",
     "status": "completed"
    },
    "tags": []
   },
   "source": [
    "SHAPE OF THE DATASET"
   ]
  },
  {
   "cell_type": "code",
   "execution_count": 4,
   "id": "8bdbd4b9",
   "metadata": {
    "execution": {
     "iopub.execute_input": "2021-07-14T16:30:47.888191Z",
     "iopub.status.busy": "2021-07-14T16:30:47.887388Z",
     "iopub.status.idle": "2021-07-14T16:30:47.894223Z",
     "shell.execute_reply": "2021-07-14T16:30:47.893656Z",
     "shell.execute_reply.started": "2021-07-14T16:26:00.431787Z"
    },
    "papermill": {
     "duration": 0.036975,
     "end_time": "2021-07-14T16:30:47.894392",
     "exception": false,
     "start_time": "2021-07-14T16:30:47.857417",
     "status": "completed"
    },
    "tags": []
   },
   "outputs": [
    {
     "data": {
      "text/plain": [
       "(301, 9)"
      ]
     },
     "execution_count": 4,
     "metadata": {},
     "output_type": "execute_result"
    }
   ],
   "source": [
    "data.shape"
   ]
  },
  {
   "cell_type": "markdown",
   "id": "f2674a9a",
   "metadata": {
    "papermill": {
     "duration": 0.027538,
     "end_time": "2021-07-14T16:30:47.949872",
     "exception": false,
     "start_time": "2021-07-14T16:30:47.922334",
     "status": "completed"
    },
    "tags": []
   },
   "source": []
  },
  {
   "cell_type": "markdown",
   "id": "38813e6e",
   "metadata": {
    "papermill": {
     "duration": 0.027688,
     "end_time": "2021-07-14T16:30:48.006173",
     "exception": false,
     "start_time": "2021-07-14T16:30:47.978485",
     "status": "completed"
    },
    "tags": []
   },
   "source": [
    "CHECKING FOR NULL VALUES"
   ]
  },
  {
   "cell_type": "code",
   "execution_count": 5,
   "id": "4c927a11",
   "metadata": {
    "execution": {
     "iopub.execute_input": "2021-07-14T16:30:48.069554Z",
     "iopub.status.busy": "2021-07-14T16:30:48.068547Z",
     "iopub.status.idle": "2021-07-14T16:30:48.073694Z",
     "shell.execute_reply": "2021-07-14T16:30:48.072967Z",
     "shell.execute_reply.started": "2021-07-14T16:26:04.514657Z"
    },
    "papermill": {
     "duration": 0.040934,
     "end_time": "2021-07-14T16:30:48.073865",
     "exception": false,
     "start_time": "2021-07-14T16:30:48.032931",
     "status": "completed"
    },
    "tags": []
   },
   "outputs": [
    {
     "data": {
      "text/plain": [
       "Car_Name         0\n",
       "Year             0\n",
       "Selling_Price    0\n",
       "Present_Price    0\n",
       "Kms_Driven       0\n",
       "Fuel_Type        0\n",
       "Seller_Type      0\n",
       "Transmission     0\n",
       "Owner            0\n",
       "dtype: int64"
      ]
     },
     "execution_count": 5,
     "metadata": {},
     "output_type": "execute_result"
    }
   ],
   "source": [
    "data.isnull().sum()"
   ]
  },
  {
   "cell_type": "markdown",
   "id": "f69bf627",
   "metadata": {
    "papermill": {
     "duration": 0.02684,
     "end_time": "2021-07-14T16:30:48.129762",
     "exception": false,
     "start_time": "2021-07-14T16:30:48.102922",
     "status": "completed"
    },
    "tags": []
   },
   "source": [
    "CONVERTING THE YEAR COLUMN TO NO.OF YEARS USED"
   ]
  },
  {
   "cell_type": "code",
   "execution_count": 6,
   "id": "434d3ced",
   "metadata": {
    "execution": {
     "iopub.execute_input": "2021-07-14T16:30:48.195635Z",
     "iopub.status.busy": "2021-07-14T16:30:48.194915Z",
     "iopub.status.idle": "2021-07-14T16:30:48.239644Z",
     "shell.execute_reply": "2021-07-14T16:30:48.238919Z",
     "shell.execute_reply.started": "2021-07-14T16:26:07.460058Z"
    },
    "papermill": {
     "duration": 0.081,
     "end_time": "2021-07-14T16:30:48.239810",
     "exception": false,
     "start_time": "2021-07-14T16:30:48.158810",
     "status": "completed"
    },
    "tags": []
   },
   "outputs": [
    {
     "data": {
      "text/html": [
       "<div>\n",
       "<style scoped>\n",
       "    .dataframe tbody tr th:only-of-type {\n",
       "        vertical-align: middle;\n",
       "    }\n",
       "\n",
       "    .dataframe tbody tr th {\n",
       "        vertical-align: top;\n",
       "    }\n",
       "\n",
       "    .dataframe thead th {\n",
       "        text-align: right;\n",
       "    }\n",
       "</style>\n",
       "<table border=\"1\" class=\"dataframe\">\n",
       "  <thead>\n",
       "    <tr style=\"text-align: right;\">\n",
       "      <th></th>\n",
       "      <th>Car_Name</th>\n",
       "      <th>Year</th>\n",
       "      <th>Selling_Price</th>\n",
       "      <th>Present_Price</th>\n",
       "      <th>Kms_Driven</th>\n",
       "      <th>Fuel_Type</th>\n",
       "      <th>Seller_Type</th>\n",
       "      <th>Transmission</th>\n",
       "      <th>Owner</th>\n",
       "      <th>current year</th>\n",
       "      <th>no.of years used</th>\n",
       "    </tr>\n",
       "  </thead>\n",
       "  <tbody>\n",
       "    <tr>\n",
       "      <th>0</th>\n",
       "      <td>ritz</td>\n",
       "      <td>2014</td>\n",
       "      <td>3.35</td>\n",
       "      <td>5.59</td>\n",
       "      <td>27000</td>\n",
       "      <td>Petrol</td>\n",
       "      <td>Dealer</td>\n",
       "      <td>Manual</td>\n",
       "      <td>0</td>\n",
       "      <td>2021</td>\n",
       "      <td>7</td>\n",
       "    </tr>\n",
       "    <tr>\n",
       "      <th>1</th>\n",
       "      <td>sx4</td>\n",
       "      <td>2013</td>\n",
       "      <td>4.75</td>\n",
       "      <td>9.54</td>\n",
       "      <td>43000</td>\n",
       "      <td>Diesel</td>\n",
       "      <td>Dealer</td>\n",
       "      <td>Manual</td>\n",
       "      <td>0</td>\n",
       "      <td>2021</td>\n",
       "      <td>8</td>\n",
       "    </tr>\n",
       "    <tr>\n",
       "      <th>2</th>\n",
       "      <td>ciaz</td>\n",
       "      <td>2017</td>\n",
       "      <td>7.25</td>\n",
       "      <td>9.85</td>\n",
       "      <td>6900</td>\n",
       "      <td>Petrol</td>\n",
       "      <td>Dealer</td>\n",
       "      <td>Manual</td>\n",
       "      <td>0</td>\n",
       "      <td>2021</td>\n",
       "      <td>4</td>\n",
       "    </tr>\n",
       "    <tr>\n",
       "      <th>3</th>\n",
       "      <td>wagon r</td>\n",
       "      <td>2011</td>\n",
       "      <td>2.85</td>\n",
       "      <td>4.15</td>\n",
       "      <td>5200</td>\n",
       "      <td>Petrol</td>\n",
       "      <td>Dealer</td>\n",
       "      <td>Manual</td>\n",
       "      <td>0</td>\n",
       "      <td>2021</td>\n",
       "      <td>10</td>\n",
       "    </tr>\n",
       "    <tr>\n",
       "      <th>4</th>\n",
       "      <td>swift</td>\n",
       "      <td>2014</td>\n",
       "      <td>4.60</td>\n",
       "      <td>6.87</td>\n",
       "      <td>42450</td>\n",
       "      <td>Diesel</td>\n",
       "      <td>Dealer</td>\n",
       "      <td>Manual</td>\n",
       "      <td>0</td>\n",
       "      <td>2021</td>\n",
       "      <td>7</td>\n",
       "    </tr>\n",
       "  </tbody>\n",
       "</table>\n",
       "</div>"
      ],
      "text/plain": [
       "  Car_Name  Year  Selling_Price  Present_Price  Kms_Driven Fuel_Type  \\\n",
       "0     ritz  2014           3.35           5.59       27000    Petrol   \n",
       "1      sx4  2013           4.75           9.54       43000    Diesel   \n",
       "2     ciaz  2017           7.25           9.85        6900    Petrol   \n",
       "3  wagon r  2011           2.85           4.15        5200    Petrol   \n",
       "4    swift  2014           4.60           6.87       42450    Diesel   \n",
       "\n",
       "  Seller_Type Transmission  Owner  current year  no.of years used  \n",
       "0      Dealer       Manual      0          2021                 7  \n",
       "1      Dealer       Manual      0          2021                 8  \n",
       "2      Dealer       Manual      0          2021                 4  \n",
       "3      Dealer       Manual      0          2021                10  \n",
       "4      Dealer       Manual      0          2021                 7  "
      ]
     },
     "execution_count": 6,
     "metadata": {},
     "output_type": "execute_result"
    }
   ],
   "source": [
    "data['current year'] = 2021\n",
    "data['no.of years used'] = data['current year'] - data['Year']\n",
    "data.head()"
   ]
  },
  {
   "cell_type": "markdown",
   "id": "24d2df3f",
   "metadata": {
    "papermill": {
     "duration": 0.027966,
     "end_time": "2021-07-14T16:30:48.297237",
     "exception": false,
     "start_time": "2021-07-14T16:30:48.269271",
     "status": "completed"
    },
    "tags": []
   },
   "source": [
    "REMOVING THE COLUMS WHICH ARE NOT GOING TO BE USED"
   ]
  },
  {
   "cell_type": "code",
   "execution_count": 7,
   "id": "6ab03865",
   "metadata": {
    "execution": {
     "iopub.execute_input": "2021-07-14T16:30:48.358388Z",
     "iopub.status.busy": "2021-07-14T16:30:48.357391Z",
     "iopub.status.idle": "2021-07-14T16:30:48.366320Z",
     "shell.execute_reply": "2021-07-14T16:30:48.365634Z",
     "shell.execute_reply.started": "2021-07-14T16:26:12.691358Z"
    },
    "papermill": {
     "duration": 0.04047,
     "end_time": "2021-07-14T16:30:48.366519",
     "exception": false,
     "start_time": "2021-07-14T16:30:48.326049",
     "status": "completed"
    },
    "tags": []
   },
   "outputs": [],
   "source": [
    "data.drop(['Car_Name','Year','current year'],1,inplace = True)\n"
   ]
  },
  {
   "cell_type": "code",
   "execution_count": 8,
   "id": "f13ead30",
   "metadata": {
    "execution": {
     "iopub.execute_input": "2021-07-14T16:30:48.440011Z",
     "iopub.status.busy": "2021-07-14T16:30:48.434194Z",
     "iopub.status.idle": "2021-07-14T16:30:48.445219Z",
     "shell.execute_reply": "2021-07-14T16:30:48.444671Z",
     "shell.execute_reply.started": "2021-07-14T16:26:15.652943Z"
    },
    "papermill": {
     "duration": 0.048935,
     "end_time": "2021-07-14T16:30:48.445394",
     "exception": false,
     "start_time": "2021-07-14T16:30:48.396459",
     "status": "completed"
    },
    "tags": []
   },
   "outputs": [
    {
     "data": {
      "text/html": [
       "<div>\n",
       "<style scoped>\n",
       "    .dataframe tbody tr th:only-of-type {\n",
       "        vertical-align: middle;\n",
       "    }\n",
       "\n",
       "    .dataframe tbody tr th {\n",
       "        vertical-align: top;\n",
       "    }\n",
       "\n",
       "    .dataframe thead th {\n",
       "        text-align: right;\n",
       "    }\n",
       "</style>\n",
       "<table border=\"1\" class=\"dataframe\">\n",
       "  <thead>\n",
       "    <tr style=\"text-align: right;\">\n",
       "      <th></th>\n",
       "      <th>Selling_Price</th>\n",
       "      <th>Present_Price</th>\n",
       "      <th>Kms_Driven</th>\n",
       "      <th>Fuel_Type</th>\n",
       "      <th>Seller_Type</th>\n",
       "      <th>Transmission</th>\n",
       "      <th>Owner</th>\n",
       "      <th>no.of years used</th>\n",
       "    </tr>\n",
       "  </thead>\n",
       "  <tbody>\n",
       "    <tr>\n",
       "      <th>0</th>\n",
       "      <td>3.35</td>\n",
       "      <td>5.59</td>\n",
       "      <td>27000</td>\n",
       "      <td>Petrol</td>\n",
       "      <td>Dealer</td>\n",
       "      <td>Manual</td>\n",
       "      <td>0</td>\n",
       "      <td>7</td>\n",
       "    </tr>\n",
       "    <tr>\n",
       "      <th>1</th>\n",
       "      <td>4.75</td>\n",
       "      <td>9.54</td>\n",
       "      <td>43000</td>\n",
       "      <td>Diesel</td>\n",
       "      <td>Dealer</td>\n",
       "      <td>Manual</td>\n",
       "      <td>0</td>\n",
       "      <td>8</td>\n",
       "    </tr>\n",
       "    <tr>\n",
       "      <th>2</th>\n",
       "      <td>7.25</td>\n",
       "      <td>9.85</td>\n",
       "      <td>6900</td>\n",
       "      <td>Petrol</td>\n",
       "      <td>Dealer</td>\n",
       "      <td>Manual</td>\n",
       "      <td>0</td>\n",
       "      <td>4</td>\n",
       "    </tr>\n",
       "    <tr>\n",
       "      <th>3</th>\n",
       "      <td>2.85</td>\n",
       "      <td>4.15</td>\n",
       "      <td>5200</td>\n",
       "      <td>Petrol</td>\n",
       "      <td>Dealer</td>\n",
       "      <td>Manual</td>\n",
       "      <td>0</td>\n",
       "      <td>10</td>\n",
       "    </tr>\n",
       "    <tr>\n",
       "      <th>4</th>\n",
       "      <td>4.60</td>\n",
       "      <td>6.87</td>\n",
       "      <td>42450</td>\n",
       "      <td>Diesel</td>\n",
       "      <td>Dealer</td>\n",
       "      <td>Manual</td>\n",
       "      <td>0</td>\n",
       "      <td>7</td>\n",
       "    </tr>\n",
       "  </tbody>\n",
       "</table>\n",
       "</div>"
      ],
      "text/plain": [
       "   Selling_Price  Present_Price  Kms_Driven Fuel_Type Seller_Type  \\\n",
       "0           3.35           5.59       27000    Petrol      Dealer   \n",
       "1           4.75           9.54       43000    Diesel      Dealer   \n",
       "2           7.25           9.85        6900    Petrol      Dealer   \n",
       "3           2.85           4.15        5200    Petrol      Dealer   \n",
       "4           4.60           6.87       42450    Diesel      Dealer   \n",
       "\n",
       "  Transmission  Owner  no.of years used  \n",
       "0       Manual      0                 7  \n",
       "1       Manual      0                 8  \n",
       "2       Manual      0                 4  \n",
       "3       Manual      0                10  \n",
       "4       Manual      0                 7  "
      ]
     },
     "execution_count": 8,
     "metadata": {},
     "output_type": "execute_result"
    }
   ],
   "source": [
    "data.head()"
   ]
  },
  {
   "cell_type": "markdown",
   "id": "520c03f2",
   "metadata": {
    "papermill": {
     "duration": 0.027698,
     "end_time": "2021-07-14T16:30:48.502094",
     "exception": false,
     "start_time": "2021-07-14T16:30:48.474396",
     "status": "completed"
    },
    "tags": []
   },
   "source": [
    "CHECKING FOR CATEGORICAL COLUMNS"
   ]
  },
  {
   "cell_type": "code",
   "execution_count": 9,
   "id": "97640d90",
   "metadata": {
    "execution": {
     "iopub.execute_input": "2021-07-14T16:30:48.569883Z",
     "iopub.status.busy": "2021-07-14T16:30:48.569189Z",
     "iopub.status.idle": "2021-07-14T16:30:48.572768Z",
     "shell.execute_reply": "2021-07-14T16:30:48.573291Z",
     "shell.execute_reply.started": "2021-07-14T16:26:20.119579Z"
    },
    "papermill": {
     "duration": 0.042968,
     "end_time": "2021-07-14T16:30:48.573504",
     "exception": false,
     "start_time": "2021-07-14T16:30:48.530536",
     "status": "completed"
    },
    "tags": []
   },
   "outputs": [
    {
     "name": "stdout",
     "output_type": "stream",
     "text": [
      "['Petrol' 'Diesel' 'CNG']\n",
      "['Dealer' 'Individual']\n",
      "['Manual' 'Automatic']\n",
      "[0 1 3]\n"
     ]
    }
   ],
   "source": [
    "print(data['Fuel_Type'].unique())\n",
    "print(data['Seller_Type'].unique())\n",
    "print(data['Transmission'].unique())\n",
    "print(data['Owner'].unique())\n"
   ]
  },
  {
   "cell_type": "markdown",
   "id": "5509b9be",
   "metadata": {
    "papermill": {
     "duration": 0.028773,
     "end_time": "2021-07-14T16:30:48.630951",
     "exception": false,
     "start_time": "2021-07-14T16:30:48.602178",
     "status": "completed"
    },
    "tags": []
   },
   "source": [
    "USING \"ONE HOT ENCODING\" "
   ]
  },
  {
   "cell_type": "code",
   "execution_count": 10,
   "id": "4ac689c4",
   "metadata": {
    "execution": {
     "iopub.execute_input": "2021-07-14T16:30:48.693028Z",
     "iopub.status.busy": "2021-07-14T16:30:48.692368Z",
     "iopub.status.idle": "2021-07-14T16:30:48.718411Z",
     "shell.execute_reply": "2021-07-14T16:30:48.717811Z",
     "shell.execute_reply.started": "2021-07-14T16:26:30.411280Z"
    },
    "papermill": {
     "duration": 0.058433,
     "end_time": "2021-07-14T16:30:48.718601",
     "exception": false,
     "start_time": "2021-07-14T16:30:48.660168",
     "status": "completed"
    },
    "tags": []
   },
   "outputs": [
    {
     "data": {
      "text/html": [
       "<div>\n",
       "<style scoped>\n",
       "    .dataframe tbody tr th:only-of-type {\n",
       "        vertical-align: middle;\n",
       "    }\n",
       "\n",
       "    .dataframe tbody tr th {\n",
       "        vertical-align: top;\n",
       "    }\n",
       "\n",
       "    .dataframe thead th {\n",
       "        text-align: right;\n",
       "    }\n",
       "</style>\n",
       "<table border=\"1\" class=\"dataframe\">\n",
       "  <thead>\n",
       "    <tr style=\"text-align: right;\">\n",
       "      <th></th>\n",
       "      <th>Selling_Price</th>\n",
       "      <th>Present_Price</th>\n",
       "      <th>Kms_Driven</th>\n",
       "      <th>Owner</th>\n",
       "      <th>no.of years used</th>\n",
       "      <th>Fuel_Type_Diesel</th>\n",
       "      <th>Fuel_Type_Petrol</th>\n",
       "      <th>Seller_Type_Individual</th>\n",
       "      <th>Transmission_Manual</th>\n",
       "    </tr>\n",
       "  </thead>\n",
       "  <tbody>\n",
       "    <tr>\n",
       "      <th>0</th>\n",
       "      <td>3.35</td>\n",
       "      <td>5.59</td>\n",
       "      <td>27000</td>\n",
       "      <td>0</td>\n",
       "      <td>7</td>\n",
       "      <td>0</td>\n",
       "      <td>1</td>\n",
       "      <td>0</td>\n",
       "      <td>1</td>\n",
       "    </tr>\n",
       "    <tr>\n",
       "      <th>1</th>\n",
       "      <td>4.75</td>\n",
       "      <td>9.54</td>\n",
       "      <td>43000</td>\n",
       "      <td>0</td>\n",
       "      <td>8</td>\n",
       "      <td>1</td>\n",
       "      <td>0</td>\n",
       "      <td>0</td>\n",
       "      <td>1</td>\n",
       "    </tr>\n",
       "    <tr>\n",
       "      <th>2</th>\n",
       "      <td>7.25</td>\n",
       "      <td>9.85</td>\n",
       "      <td>6900</td>\n",
       "      <td>0</td>\n",
       "      <td>4</td>\n",
       "      <td>0</td>\n",
       "      <td>1</td>\n",
       "      <td>0</td>\n",
       "      <td>1</td>\n",
       "    </tr>\n",
       "    <tr>\n",
       "      <th>3</th>\n",
       "      <td>2.85</td>\n",
       "      <td>4.15</td>\n",
       "      <td>5200</td>\n",
       "      <td>0</td>\n",
       "      <td>10</td>\n",
       "      <td>0</td>\n",
       "      <td>1</td>\n",
       "      <td>0</td>\n",
       "      <td>1</td>\n",
       "    </tr>\n",
       "    <tr>\n",
       "      <th>4</th>\n",
       "      <td>4.60</td>\n",
       "      <td>6.87</td>\n",
       "      <td>42450</td>\n",
       "      <td>0</td>\n",
       "      <td>7</td>\n",
       "      <td>1</td>\n",
       "      <td>0</td>\n",
       "      <td>0</td>\n",
       "      <td>1</td>\n",
       "    </tr>\n",
       "  </tbody>\n",
       "</table>\n",
       "</div>"
      ],
      "text/plain": [
       "   Selling_Price  Present_Price  Kms_Driven  Owner  no.of years used  \\\n",
       "0           3.35           5.59       27000      0                 7   \n",
       "1           4.75           9.54       43000      0                 8   \n",
       "2           7.25           9.85        6900      0                 4   \n",
       "3           2.85           4.15        5200      0                10   \n",
       "4           4.60           6.87       42450      0                 7   \n",
       "\n",
       "   Fuel_Type_Diesel  Fuel_Type_Petrol  Seller_Type_Individual  \\\n",
       "0                 0                 1                       0   \n",
       "1                 1                 0                       0   \n",
       "2                 0                 1                       0   \n",
       "3                 0                 1                       0   \n",
       "4                 1                 0                       0   \n",
       "\n",
       "   Transmission_Manual  \n",
       "0                    1  \n",
       "1                    1  \n",
       "2                    1  \n",
       "3                    1  \n",
       "4                    1  "
      ]
     },
     "execution_count": 10,
     "metadata": {},
     "output_type": "execute_result"
    }
   ],
   "source": [
    "data = pd.get_dummies(data,drop_first=True)\n",
    "data.head()"
   ]
  },
  {
   "cell_type": "markdown",
   "id": "b4cdaeeb",
   "metadata": {
    "papermill": {
     "duration": 0.029672,
     "end_time": "2021-07-14T16:30:48.777972",
     "exception": false,
     "start_time": "2021-07-14T16:30:48.748300",
     "status": "completed"
    },
    "tags": []
   },
   "source": [
    "SEPARATING THE FEATURES AND TARGET LABEL"
   ]
  },
  {
   "cell_type": "code",
   "execution_count": 11,
   "id": "906b65e5",
   "metadata": {
    "execution": {
     "iopub.execute_input": "2021-07-14T16:30:48.846769Z",
     "iopub.status.busy": "2021-07-14T16:30:48.846035Z",
     "iopub.status.idle": "2021-07-14T16:30:48.859479Z",
     "shell.execute_reply": "2021-07-14T16:30:48.858519Z",
     "shell.execute_reply.started": "2021-07-14T16:26:35.515349Z"
    },
    "papermill": {
     "duration": 0.050985,
     "end_time": "2021-07-14T16:30:48.859729",
     "exception": false,
     "start_time": "2021-07-14T16:30:48.808744",
     "status": "completed"
    },
    "tags": []
   },
   "outputs": [
    {
     "name": "stdout",
     "output_type": "stream",
     "text": [
      "     Present_Price  Kms_Driven  Owner  no.of years used  Fuel_Type_Diesel  \\\n",
      "0             5.59       27000      0                 7                 0   \n",
      "1             9.54       43000      0                 8                 1   \n",
      "2             9.85        6900      0                 4                 0   \n",
      "3             4.15        5200      0                10                 0   \n",
      "4             6.87       42450      0                 7                 1   \n",
      "..             ...         ...    ...               ...               ...   \n",
      "296          11.60       33988      0                 5                 1   \n",
      "297           5.90       60000      0                 6                 0   \n",
      "298          11.00       87934      0                12                 0   \n",
      "299          12.50        9000      0                 4                 1   \n",
      "300           5.90        5464      0                 5                 0   \n",
      "\n",
      "     Fuel_Type_Petrol  Seller_Type_Individual  Transmission_Manual  \n",
      "0                   1                       0                    1  \n",
      "1                   0                       0                    1  \n",
      "2                   1                       0                    1  \n",
      "3                   1                       0                    1  \n",
      "4                   0                       0                    1  \n",
      "..                ...                     ...                  ...  \n",
      "296                 0                       0                    1  \n",
      "297                 1                       0                    1  \n",
      "298                 1                       0                    1  \n",
      "299                 0                       0                    1  \n",
      "300                 1                       0                    1  \n",
      "\n",
      "[301 rows x 8 columns]\n",
      "0       3.35\n",
      "1       4.75\n",
      "2       7.25\n",
      "3       2.85\n",
      "4       4.60\n",
      "       ...  \n",
      "296     9.50\n",
      "297     4.00\n",
      "298     3.35\n",
      "299    11.50\n",
      "300     5.30\n",
      "Name: Selling_Price, Length: 301, dtype: float64\n"
     ]
    }
   ],
   "source": [
    "X = data.iloc[:,1:]\n",
    "y = data.iloc[:,0]\n",
    "print(X)\n",
    "print(y)"
   ]
  },
  {
   "cell_type": "markdown",
   "id": "9c5ecc55",
   "metadata": {
    "papermill": {
     "duration": 0.031141,
     "end_time": "2021-07-14T16:30:48.922033",
     "exception": false,
     "start_time": "2021-07-14T16:30:48.890892",
     "status": "completed"
    },
    "tags": []
   },
   "source": [
    "CHECKING THE CORRELATION BETWEEN THE INDEPENDENT FEATURES"
   ]
  },
  {
   "cell_type": "code",
   "execution_count": 12,
   "id": "8c36ba80",
   "metadata": {
    "execution": {
     "iopub.execute_input": "2021-07-14T16:30:48.989999Z",
     "iopub.status.busy": "2021-07-14T16:30:48.989340Z",
     "iopub.status.idle": "2021-07-14T16:30:49.833532Z",
     "shell.execute_reply": "2021-07-14T16:30:49.832977Z",
     "shell.execute_reply.started": "2021-07-14T16:26:41.962295Z"
    },
    "papermill": {
     "duration": 0.88137,
     "end_time": "2021-07-14T16:30:49.833709",
     "exception": false,
     "start_time": "2021-07-14T16:30:48.952339",
     "status": "completed"
    },
    "tags": []
   },
   "outputs": [
    {
     "data": {
      "text/plain": [
       "<AxesSubplot:>"
      ]
     },
     "execution_count": 12,
     "metadata": {},
     "output_type": "execute_result"
    },
    {
     "data": {
      "image/png": "[encoded data removed]",
      "text/plain": [
       "<Figure size 1440x1440 with 2 Axes>"
      ]
     },
     "metadata": {
      "needs_background": "light"
     },
     "output_type": "display_data"
    }
   ],
   "source": [
    "plt.figure(figsize=(20,20))\n",
    "sns.heatmap(X.corr(),annot = True)"
   ]
  },
  {
   "cell_type": "markdown",
   "id": "50e63dc6",
   "metadata": {
    "papermill": {
     "duration": 0.03241,
     "end_time": "2021-07-14T16:30:49.899667",
     "exception": false,
     "start_time": "2021-07-14T16:30:49.867257",
     "status": "completed"
    },
    "tags": []
   },
   "source": [
    "CHECKING WHICH FEATURE IS IMPORTANT TO PREDICT THE OUTPUT"
   ]
  },
  {
   "cell_type": "code",
   "execution_count": 13,
   "id": "52915f98",
   "metadata": {
    "execution": {
     "iopub.execute_input": "2021-07-14T16:30:49.972301Z",
     "iopub.status.busy": "2021-07-14T16:30:49.971486Z",
     "iopub.status.idle": "2021-07-14T16:30:50.980687Z",
     "shell.execute_reply": "2021-07-14T16:30:50.980103Z",
     "shell.execute_reply.started": "2021-07-14T16:26:53.371339Z"
    },
    "papermill": {
     "duration": 1.047854,
     "end_time": "2021-07-14T16:30:50.980867",
     "exception": false,
     "start_time": "2021-07-14T16:30:49.933013",
     "status": "completed"
    },
    "tags": []
   },
   "outputs": [
    {
     "name": "stdout",
     "output_type": "stream",
     "text": [
      "Present_Price             0.368079\n",
      "Fuel_Type_Diesel          0.238486\n",
      "Transmission_Manual       0.137437\n",
      "Seller_Type_Individual    0.133429\n",
      "no.of years used          0.077393\n",
      "dtype: float64\n"
     ]
    },
    {
     "data": {
      "text/plain": [
       "<function matplotlib.pyplot.show(close=None, block=None)>"
      ]
     },
     "execution_count": 13,
     "metadata": {},
     "output_type": "execute_result"
    },
    {
     "data": {
      "image/png": "[encoded data removed]",
      "text/plain": [
       "<Figure size 432x288 with 1 Axes>"
      ]
     },
     "metadata": {
      "needs_background": "light"
     },
     "output_type": "display_data"
    }
   ],
   "source": [
    "from sklearn.ensemble import ExtraTreesRegressor\n",
    "model = ExtraTreesRegressor()\n",
    "model.fit(X, y)\n",
    "important_features = pd.Series(model.feature_importances_, index = X.columns)\n",
    "print(important_features.nlargest(5))\n",
    "important_features.nlargest(9).plot(kind ='bar')\n",
    "plt.show"
   ]
  },
  {
   "cell_type": "markdown",
   "id": "8be483d0",
   "metadata": {
    "papermill": {
     "duration": 0.033482,
     "end_time": "2021-07-14T16:30:51.047990",
     "exception": false,
     "start_time": "2021-07-14T16:30:51.014508",
     "status": "completed"
    },
    "tags": []
   },
   "source": [
    "SPLITING THE DATA FOR TRAINING AND TESTING"
   ]
  },
  {
   "cell_type": "code",
   "execution_count": 14,
   "id": "9d19a311",
   "metadata": {
    "execution": {
     "iopub.execute_input": "2021-07-14T16:30:51.123047Z",
     "iopub.status.busy": "2021-07-14T16:30:51.122059Z",
     "iopub.status.idle": "2021-07-14T16:30:51.128485Z",
     "shell.execute_reply": "2021-07-14T16:30:51.129068Z",
     "shell.execute_reply.started": "2021-07-14T16:27:06.359952Z"
    },
    "papermill": {
     "duration": 0.047558,
     "end_time": "2021-07-14T16:30:51.129263",
     "exception": false,
     "start_time": "2021-07-14T16:30:51.081705",
     "status": "completed"
    },
    "tags": []
   },
   "outputs": [
    {
     "data": {
      "text/plain": [
       "((210, 8), (91, 8))"
      ]
     },
     "execution_count": 14,
     "metadata": {},
     "output_type": "execute_result"
    }
   ],
   "source": [
    "from sklearn.model_selection import train_test_split\n",
    "X_train, X_test, y_train, y_test = train_test_split(X, y, test_size=0.3, random_state=50)\n",
    "X_train.shape,X_test.shape"
   ]
  },
  {
   "cell_type": "markdown",
   "id": "87d12d9c",
   "metadata": {
    "papermill": {
     "duration": 0.034561,
     "end_time": "2021-07-14T16:30:51.197715",
     "exception": false,
     "start_time": "2021-07-14T16:30:51.163154",
     "status": "completed"
    },
    "tags": []
   },
   "source": [
    "MODEL BUILDING : RANDOM FOREST"
   ]
  },
  {
   "cell_type": "code",
   "execution_count": 15,
   "id": "00832977",
   "metadata": {
    "execution": {
     "iopub.execute_input": "2021-07-14T16:30:51.270639Z",
     "iopub.status.busy": "2021-07-14T16:30:51.269637Z",
     "iopub.status.idle": "2021-07-14T16:30:51.804852Z",
     "shell.execute_reply": "2021-07-14T16:30:51.805454Z",
     "shell.execute_reply.started": "2021-07-14T16:28:33.573273Z"
    },
    "papermill": {
     "duration": 0.573827,
     "end_time": "2021-07-14T16:30:51.805669",
     "exception": false,
     "start_time": "2021-07-14T16:30:51.231842",
     "status": "completed"
    },
    "tags": []
   },
   "outputs": [
    {
     "data": {
      "text/plain": [
       "2.450637200666254"
      ]
     },
     "execution_count": 15,
     "metadata": {},
     "output_type": "execute_result"
    }
   ],
   "source": [
    "#model creation\n",
    "#MANNUALLY INITIALIZING THE PARAMETERS\n",
    "from sklearn.metrics import mean_squared_error\n",
    "from sklearn.ensemble import RandomForestRegressor\n",
    "model=RandomForestRegressor(n_estimators=300,max_features='sqrt',min_samples_leaf=10,random_state=100).fit(X_train,y_train)\n",
    "predictions=model.predict(X_test)\n",
    "rmse_value = mean_squared_error(y_test, predictions, squared=False)\n",
    "rmse_value\n"
   ]
  },
  {
   "cell_type": "markdown",
   "id": "ff0ffdda",
   "metadata": {
    "papermill": {
     "duration": 0.03395,
     "end_time": "2021-07-14T16:30:51.873625",
     "exception": false,
     "start_time": "2021-07-14T16:30:51.839675",
     "status": "completed"
    },
    "tags": []
   },
   "source": [
    "USING \"RandomizedSearchCV\" TO FIND THE BEST PARAMETERS "
   ]
  },
  {
   "cell_type": "code",
   "execution_count": 16,
   "id": "0161c6f4",
   "metadata": {
    "execution": {
     "iopub.execute_input": "2021-07-14T16:30:51.951383Z",
     "iopub.status.busy": "2021-07-14T16:30:51.950677Z",
     "iopub.status.idle": "2021-07-14T16:30:51.954536Z",
     "shell.execute_reply": "2021-07-14T16:30:51.953914Z",
     "shell.execute_reply.started": "2021-07-14T16:28:39.320577Z"
    },
    "papermill": {
     "duration": 0.047027,
     "end_time": "2021-07-14T16:30:51.954690",
     "exception": false,
     "start_time": "2021-07-14T16:30:51.907663",
     "status": "completed"
    },
    "tags": []
   },
   "outputs": [],
   "source": [
    "from sklearn.model_selection import RandomizedSearchCV\n",
    "# Number of trees in random forest\n",
    "n_estimators = [int(x) for x in np.linspace(start = 100, stop = 200, num = 5)]\n",
    "# Number of features to consider at every split\n",
    "max_features = ['auto', 'sqrt']\n",
    "# Maximum number of levels in tree\n",
    "max_depth = [int(x) for x in np.linspace(10, 100,5)]\n",
    "# Minimum number of samples required to split a node\n",
    "min_samples_split = [2, 5, 10,14]\n",
    "# Minimum number of samples required at each leaf node\n",
    "min_samples_leaf = [1, 2, 4,6,8]\n",
    "# Create the random grid\n",
    "random_grid = {'n_estimators': n_estimators,\n",
    "               'max_features': max_features,\n",
    "               'max_depth': max_depth,\n",
    "               'min_samples_split': min_samples_split,\n",
    "               'min_samples_leaf': min_samples_leaf}"
   ]
  },
  {
   "cell_type": "code",
   "execution_count": 17,
   "id": "62198a44",
   "metadata": {
    "execution": {
     "iopub.execute_input": "2021-07-14T16:30:52.046096Z",
     "iopub.status.busy": "2021-07-14T16:30:52.045329Z",
     "iopub.status.idle": "2021-07-14T16:31:52.070237Z",
     "shell.execute_reply": "2021-07-14T16:31:52.070865Z",
     "shell.execute_reply.started": "2021-07-14T16:28:42.217589Z"
    },
    "papermill": {
     "duration": 60.079213,
     "end_time": "2021-07-14T16:31:52.071107",
     "exception": false,
     "start_time": "2021-07-14T16:30:51.991894",
     "status": "completed"
    },
    "tags": []
   },
   "outputs": [
    {
     "name": "stdout",
     "output_type": "stream",
     "text": [
      "Fitting 5 folds for each of 100 candidates, totalling 500 fits\n"
     ]
    },
    {
     "name": "stderr",
     "output_type": "stream",
     "text": [
      "[Parallel(n_jobs=-1)]: Using backend LokyBackend with 4 concurrent workers.\n",
      "[Parallel(n_jobs=-1)]: Done  33 tasks      | elapsed:    6.5s\n",
      "[Parallel(n_jobs=-1)]: Done 154 tasks      | elapsed:   20.3s\n",
      "[Parallel(n_jobs=-1)]: Done 357 tasks      | elapsed:   43.1s\n",
      "[Parallel(n_jobs=-1)]: Done 500 out of 500 | elapsed:   59.5s finished\n"
     ]
    },
    {
     "data": {
      "text/plain": [
       "RandomizedSearchCV(cv=5, estimator=RandomForestRegressor(), n_iter=100,\n",
       "                   n_jobs=-1,\n",
       "                   param_distributions={'max_depth': [10, 32, 55, 77, 100],\n",
       "                                        'max_features': ['auto', 'sqrt'],\n",
       "                                        'min_samples_leaf': [1, 2, 4, 6, 8],\n",
       "                                        'min_samples_split': [2, 5, 10, 14],\n",
       "                                        'n_estimators': [100, 125, 150, 175,\n",
       "                                                         200]},\n",
       "                   random_state=10, verbose=2)"
      ]
     },
     "execution_count": 17,
     "metadata": {},
     "output_type": "execute_result"
    }
   ],
   "source": [
    "rf=RandomForestRegressor()\n",
    "rf_randomcv=RandomizedSearchCV(estimator=rf,param_distributions=random_grid,n_iter=100,cv=5,verbose=2,\n",
    "                               random_state=10,n_jobs=-1)\n",
    "### fit the randomized model\n",
    "rf_randomcv.fit(X_train,y_train)\n"
   ]
  },
  {
   "cell_type": "markdown",
   "id": "5a5d28be",
   "metadata": {
    "papermill": {
     "duration": 0.036057,
     "end_time": "2021-07-14T16:31:52.144909",
     "exception": false,
     "start_time": "2021-07-14T16:31:52.108852",
     "status": "completed"
    },
    "tags": []
   },
   "source": [
    "FINDIND THE BEST PARAMETER"
   ]
  },
  {
   "cell_type": "code",
   "execution_count": 18,
   "id": "efe3975a",
   "metadata": {
    "execution": {
     "iopub.execute_input": "2021-07-14T16:31:52.222000Z",
     "iopub.status.busy": "2021-07-14T16:31:52.221216Z",
     "iopub.status.idle": "2021-07-14T16:31:52.226828Z",
     "shell.execute_reply": "2021-07-14T16:31:52.227283Z",
     "shell.execute_reply.started": "2021-07-14T16:29:48.716790Z"
    },
    "papermill": {
     "duration": 0.046097,
     "end_time": "2021-07-14T16:31:52.227521",
     "exception": false,
     "start_time": "2021-07-14T16:31:52.181424",
     "status": "completed"
    },
    "tags": []
   },
   "outputs": [
    {
     "data": {
      "text/plain": [
       "{'n_estimators': 200,\n",
       " 'min_samples_split': 2,\n",
       " 'min_samples_leaf': 1,\n",
       " 'max_features': 'auto',\n",
       " 'max_depth': 77}"
      ]
     },
     "execution_count": 18,
     "metadata": {},
     "output_type": "execute_result"
    }
   ],
   "source": [
    "rf_randomcv.best_params_\n"
   ]
  },
  {
   "cell_type": "markdown",
   "id": "5ecfedb6",
   "metadata": {
    "papermill": {
     "duration": 0.037486,
     "end_time": "2021-07-14T16:31:52.302048",
     "exception": false,
     "start_time": "2021-07-14T16:31:52.264562",
     "status": "completed"
    },
    "tags": []
   },
   "source": [
    "USING THE BEST ESTIMATOR TO PREDICT THE RESULTS"
   ]
  },
  {
   "cell_type": "code",
   "execution_count": 19,
   "id": "655a9c98",
   "metadata": {
    "execution": {
     "iopub.execute_input": "2021-07-14T16:31:52.383328Z",
     "iopub.status.busy": "2021-07-14T16:31:52.382681Z",
     "iopub.status.idle": "2021-07-14T16:31:52.408110Z",
     "shell.execute_reply": "2021-07-14T16:31:52.408622Z",
     "shell.execute_reply.started": "2021-07-14T16:30:00.069956Z"
    },
    "papermill": {
     "duration": 0.067787,
     "end_time": "2021-07-14T16:31:52.408829",
     "exception": false,
     "start_time": "2021-07-14T16:31:52.341042",
     "status": "completed"
    },
    "tags": []
   },
   "outputs": [
    {
     "data": {
      "text/plain": [
       "0.9089617683028618"
      ]
     },
     "execution_count": 19,
     "metadata": {},
     "output_type": "execute_result"
    }
   ],
   "source": [
    "best_random_grid=rf_randomcv.best_estimator_\n",
    "y_pred=best_random_grid.predict(X_test)\n",
    "rmse_value = mean_squared_error(y_test, y_pred, squared=False)\n",
    "rmse_value\n"
   ]
  },
  {
   "cell_type": "code",
   "execution_count": 20,
   "id": "806095b8",
   "metadata": {
    "execution": {
     "iopub.execute_input": "2021-07-14T16:31:52.486378Z",
     "iopub.status.busy": "2021-07-14T16:31:52.485714Z",
     "iopub.status.idle": "2021-07-14T16:31:52.895576Z",
     "shell.execute_reply": "2021-07-14T16:31:52.894946Z",
     "shell.execute_reply.started": "2021-07-14T16:30:15.414724Z"
    },
    "papermill": {
     "duration": 0.450131,
     "end_time": "2021-07-14T16:31:52.895741",
     "exception": false,
     "start_time": "2021-07-14T16:31:52.445610",
     "status": "completed"
    },
    "tags": []
   },
   "outputs": [
    {
     "name": "stderr",
     "output_type": "stream",
     "text": [
      "/opt/conda/lib/python3.7/site-packages/seaborn/distributions.py:2557: FutureWarning: `distplot` is a deprecated function and will be removed in a future version. Please adapt your code to use either `displot` (a figure-level function with similar flexibility) or `histplot` (an axes-level function for histograms).\n",
      "  warnings.warn(msg, FutureWarning)\n"
     ]
    },
    {
     "data": {
      "image/png": "[encoded data removed]",
      "text/plain": [
       "<Figure size 432x288 with 1 Axes>"
      ]
     },
     "metadata": {
      "needs_background": "light"
     },
     "output_type": "display_data"
    }
   ],
   "source": [
    "sns.distplot(y_test-y_pred);\n"
   ]
  },
  {
   "cell_type": "code",
   "execution_count": 21,
   "id": "86b135ca",
   "metadata": {
    "execution": {
     "iopub.execute_input": "2021-07-14T16:31:52.997624Z",
     "iopub.status.busy": "2021-07-14T16:31:52.996938Z",
     "iopub.status.idle": "2021-07-14T16:31:53.151626Z",
     "shell.execute_reply": "2021-07-14T16:31:53.152127Z",
     "shell.execute_reply.started": "2021-07-14T16:30:18.681712Z"
    },
    "papermill": {
     "duration": 0.217613,
     "end_time": "2021-07-14T16:31:53.152301",
     "exception": false,
     "start_time": "2021-07-14T16:31:52.934688",
     "status": "completed"
    },
    "tags": []
   },
   "outputs": [
    {
     "data": {
      "text/plain": [
       "<matplotlib.collections.PathCollection at 0x7f9c6c745c50>"
      ]
     },
     "execution_count": 21,
     "metadata": {},
     "output_type": "execute_result"
    },
    {
     "data": {
      "image/png": "[encoded data removed]",
      "text/plain": [
       "<Figure size 432x288 with 1 Axes>"
      ]
     },
     "metadata": {
      "needs_background": "light"
     },
     "output_type": "display_data"
    }
   ],
   "source": [
    "plt.scatter(y_test, y_pred)"
   ]
  },
  {
   "cell_type": "markdown",
   "id": "6b2209a7",
   "metadata": {
    "papermill": {
     "duration": 0.039442,
     "end_time": "2021-07-14T16:31:53.231764",
     "exception": false,
     "start_time": "2021-07-14T16:31:53.192322",
     "status": "completed"
    },
    "tags": []
   },
   "source": []
  }
 ],
 "metadata": {
  "kernelspec": {
   "display_name": "Python 3",
   "language": "python",
   "name": "python3"
  },
  "language_info": {
   "codemirror_mode": {
    "name": "ipython",
    "version": 3
   },
   "file_extension": ".py",
   "mimetype": "text/x-python",
   "name": "python",
   "nbconvert_exporter": "python",
   "pygments_lexer": "ipython3",
   "version": "3.7.10"
  },
  "papermill": {
   "default_parameters": {},
   "duration": 78.004082,
   "end_time": "2021-07-14T16:31:55.192856",
   "environment_variables": {},
   "exception": null,
   "input_path": "__notebook__.ipynb",
   "output_path": "__notebook__.ipynb",
   "parameters": {},
   "start_time": "2021-07-14T16:30:37.188774",
   "version": "2.3.3"
  }
 },
 "nbformat": 4,
 "nbformat_minor": 5
}
